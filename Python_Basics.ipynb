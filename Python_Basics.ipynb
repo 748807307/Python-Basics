{
  "nbformat": 4,
  "nbformat_minor": 0,
  "metadata": {
    "colab": {
      "provenance": []
    },
    "kernelspec": {
      "name": "python3",
      "display_name": "Python 3"
    },
    "language_info": {
      "name": "python"
    }
  },
  "cells": [
    {
      "cell_type": "markdown",
      "source": [
        "# Python Basics\n"
      ],
      "metadata": {
        "id": "ViWtwR5iC6ci"
      }
    },
    {
      "cell_type": "markdown",
      "source": [
        "1. What is Python, and why is it popular?\n",
        "- Python is a programming language that is easy to understand and write,making it popular choice among developers and programmers.\n",
        "\n",
        "2. What is an interpreter in Python?\n",
        " - A python interpreter is a program that traslate python code into machine code,allowing programmer to run their code line by line.\n",
        "\n",
        "3. What are pre-defined keywords in Python?\n",
        " - words that have a specific meaning and are reserved for use in python programs.\n",
        "\n",
        "4. Can keywords be used as variable names?\n",
        " - No\n",
        "\n",
        "5. What is mutability in Python?\n",
        " - In Python, mutable means something can be changed after it's created. Mutable objects include lists, dictionaries, and sets.\n",
        "\n",
        "6. Why are lists mutable, but tuples are immutable?\n",
        " - The main difference between tuples and lists is that tuples are immutable, meaning their contents cannot be changed after creation, while lists are mutable and can be modified.\n",
        "\n",
        "7. What is the difference between “==” and “is” operators in Python?\n",
        " - In Python, the == operator compares the values of objects, while the is operator compares the identity of objects.\n",
        "\n",
        "8. What are logical operators in Python?\n",
        " - keywords that connect and evaluate multiple conditions in a single expression.\n",
        "\n",
        "9. What is type casting in Python?\n",
        " - Type casting, also known as type conversion, is the process of changing a variable's data type in Python. It can be done explicitly or implicitly.\n",
        " -\n",
        "10. What is the difference between implicit and explicit type casting?\n",
        " - Implicit:-The interpreter automatically converts a data type to another when needed during calculation.\n",
        "   Explicit:-Requires the programmer to manually convert a data type using specific functions like int(),float(),str() to specify the desired type conversion.\n",
        "\n",
        "11. What is the purpose of conditional statements in Python?\n",
        " - The purpose of a conditional statement in python is to control the flow of a programe by executing different code blocks based on certain conditions.\n",
        "\n",
        "12. How does the elif statement work?\n",
        " - The \"elif\" keywords in python, stands for \"else if\".It can be used in conditional statement to check the multiple conditions.\n",
        "\n",
        "13. What is the difference between for and while loops?\n",
        " - The main difference between a for loop and a while loop is that a for loop is used when you know how many times to repeat a block of code, while a while loop is used when you don't.\n",
        "14. Describe a scenario where a while loop is more suitable than a for loop.\n",
        " - A 'While Loop' is more appropriate when you need to iterate until a condition is met without knowing the number of iterations in advance. This makes it suitable for situations like processing user guesses for a secret number."
      ],
      "metadata": {
        "id": "p0t-sASdCuAM"
      }
    },
    {
      "cell_type": "markdown",
      "source": [
        "# Practical Questions"
      ],
      "metadata": {
        "id": "Qeza8BeHLFPU"
      }
    },
    {
      "cell_type": "code",
      "execution_count": 2,
      "metadata": {
        "colab": {
          "base_uri": "https://localhost:8080/"
        },
        "id": "uRne4t55COA7",
        "outputId": "893e8a22-2429-4f64-ed8b-ad387cc5f572"
      },
      "outputs": [
        {
          "output_type": "stream",
          "name": "stdout",
          "text": [
            "Hello, World!\n"
          ]
        }
      ],
      "source": [
        "#1. Write a Python program to print \"Hello, World!\"\n",
        "\n",
        "print(\"Hello, World!\")"
      ]
    },
    {
      "cell_type": "code",
      "source": [
        "#2. Write a Python program that displays your name and age.\n",
        "\n",
        "a = (\"Manish kumar\")\n",
        "b = (21)\n",
        "print(a)\n",
        "print(b)"
      ],
      "metadata": {
        "colab": {
          "base_uri": "https://localhost:8080/"
        },
        "id": "M4AZ1yiTL3qN",
        "outputId": "eaaec310-4863-42d5-faf9-802b7a1338d5"
      },
      "execution_count": 4,
      "outputs": [
        {
          "output_type": "stream",
          "name": "stdout",
          "text": [
            "Manish kumar\n",
            "21\n"
          ]
        }
      ]
    },
    {
      "cell_type": "code",
      "source": [
        "#3. Write code to print all the pre-defined keywords in Python using the keyword library.\n",
        "help(\"keywords\")"
      ],
      "metadata": {
        "colab": {
          "base_uri": "https://localhost:8080/"
        },
        "id": "mhWc4fpjMXmk",
        "outputId": "f1632107-125a-4279-db7d-5097ff7a979e"
      },
      "execution_count": 5,
      "outputs": [
        {
          "output_type": "stream",
          "name": "stdout",
          "text": [
            "\n",
            "Here is a list of the Python keywords.  Enter any keyword to get more help.\n",
            "\n",
            "False               class               from                or\n",
            "None                continue            global              pass\n",
            "True                def                 if                  raise\n",
            "and                 del                 import              return\n",
            "as                  elif                in                  try\n",
            "assert              else                is                  while\n",
            "async               except              lambda              with\n",
            "await               finally             nonlocal            yield\n",
            "break               for                 not                 \n",
            "\n"
          ]
        }
      ]
    },
    {
      "cell_type": "code",
      "source": [
        "#4.write a program that checks if a given word is a Python keyword.\n",
        "import keyword\n",
        "\n",
        "def is_python_keyword(word):\n",
        "    return keyword.iskeyword(word)\n",
        "\n",
        "word = input(\"Enter a word:\")\n",
        "if is_python_keyword(word):\n",
        "    print(f\"'{word}' is a python keyword.\")\n",
        "else:\n",
        "    print(f\"'{word}' is not a python keyword.\")\n",
        "\n",
        ""
      ],
      "metadata": {
        "colab": {
          "base_uri": "https://localhost:8080/"
        },
        "id": "EZFyxmm5NJJ3",
        "outputId": "83632880-b75e-4b6e-f001-cbb3ab7cf692"
      },
      "execution_count": 7,
      "outputs": [
        {
          "output_type": "stream",
          "name": "stdout",
          "text": [
            "Enter a word:word\n",
            "'word' is not a python keyword.\n"
          ]
        }
      ]
    },
    {
      "cell_type": "code",
      "source": [
        "#5.Create a list and tuple in Python, and demonstrate how attempting to change an element works differently for each.\n",
        "\n",
        "my_list = [1,2,3]\n",
        "print(my_list)\n",
        "\n",
        "my_list[0]=4\n",
        "print(my_list)\n",
        "\n",
        "my_tuple = (1,2,3)\n",
        "print(my_tuple)\n",
        "\n",
        "my_tuple[0]=4\n",
        "print(my_tuple)\n"
      ],
      "metadata": {
        "colab": {
          "base_uri": "https://localhost:8080/",
          "height": 245
        },
        "id": "ZkmLH6WZQBQX",
        "outputId": "78e9eaa8-7b12-4418-e718-43debb65e4a3"
      },
      "execution_count": 8,
      "outputs": [
        {
          "output_type": "stream",
          "name": "stdout",
          "text": [
            "[1, 2, 3]\n",
            "[4, 2, 3]\n",
            "(1, 2, 3)\n"
          ]
        },
        {
          "output_type": "error",
          "ename": "TypeError",
          "evalue": "'tuple' object does not support item assignment",
          "traceback": [
            "\u001b[0;31m---------------------------------------------------------------------------\u001b[0m",
            "\u001b[0;31mTypeError\u001b[0m                                 Traceback (most recent call last)",
            "\u001b[0;32m<ipython-input-8-255815ef6085>\u001b[0m in \u001b[0;36m<cell line: 0>\u001b[0;34m()\u001b[0m\n\u001b[1;32m     10\u001b[0m \u001b[0mprint\u001b[0m\u001b[0;34m(\u001b[0m\u001b[0mmy_tuple\u001b[0m\u001b[0;34m)\u001b[0m\u001b[0;34m\u001b[0m\u001b[0;34m\u001b[0m\u001b[0m\n\u001b[1;32m     11\u001b[0m \u001b[0;34m\u001b[0m\u001b[0m\n\u001b[0;32m---> 12\u001b[0;31m \u001b[0mmy_tuple\u001b[0m\u001b[0;34m[\u001b[0m\u001b[0;36m0\u001b[0m\u001b[0;34m]\u001b[0m\u001b[0;34m=\u001b[0m\u001b[0;36m4\u001b[0m\u001b[0;34m\u001b[0m\u001b[0;34m\u001b[0m\u001b[0m\n\u001b[0m\u001b[1;32m     13\u001b[0m \u001b[0mprint\u001b[0m\u001b[0;34m(\u001b[0m\u001b[0mmy_tuple\u001b[0m\u001b[0;34m)\u001b[0m\u001b[0;34m\u001b[0m\u001b[0;34m\u001b[0m\u001b[0m\n",
            "\u001b[0;31mTypeError\u001b[0m: 'tuple' object does not support item assignment"
          ]
        }
      ]
    },
    {
      "cell_type": "code",
      "source": [
        "#6.Write a function to demonstrate the behavior of mutable and immutable arguments.\n",
        "\n",
        "def modify_list(my_list):\n",
        "   my_list.append(4)\n",
        "\n",
        "my_list = [1,2,3]\n",
        "modify_list(my_list)\n",
        "print(my_list)\n",
        "\n",
        "def modify_tuple(my_tuple):\n",
        "    my_tuple = (1,2,3,4)\n",
        "\n",
        "    my_tuple = (1,2,3)\n",
        "    modify_tuple(my_tuple)\n",
        "    print(my_tuple)"
      ],
      "metadata": {
        "colab": {
          "base_uri": "https://localhost:8080/"
        },
        "id": "ssBzaQ1kSJr5",
        "outputId": "0a0c52e2-b282-450d-dc03-82b77b5fc0b7"
      },
      "execution_count": 9,
      "outputs": [
        {
          "output_type": "stream",
          "name": "stdout",
          "text": [
            "[1, 2, 3, 4]\n"
          ]
        }
      ]
    },
    {
      "cell_type": "code",
      "source": [
        "#7.Write a program to demonstrate the use of logical operators.\n",
        "\n",
        "a, b, c = True, False, True\n",
        "\n",
        "if a and c:\n",
        "    print(\"Both a and c are True (AND condition).\")\n",
        "\n",
        "if b or c:\n",
        "    print(\"Either b or c is True (OR condition).\")\n",
        "\n",
        "if not b:\n",
        "    print(\"b is False (NOT condition).\")\n",
        "\n"
      ],
      "metadata": {
        "colab": {
          "base_uri": "https://localhost:8080/"
        },
        "id": "rpWa75clTrPu",
        "outputId": "d45d337f-bed7-4f52-f29c-8844a840e2c7"
      },
      "execution_count": 10,
      "outputs": [
        {
          "output_type": "stream",
          "name": "stdout",
          "text": [
            "Both a and c are True (AND condition).\n",
            "Either b or c is True (OR condition).\n",
            "b is False (NOT condition).\n"
          ]
        }
      ]
    },
    {
      "cell_type": "code",
      "source": [
        "#9.Write a Python program to convert user input from string to integer, float, and boolean type.\n",
        "\n",
        "user_input = input(\"Enter a value:\")\n",
        "int_value = int(user_input)\n",
        "float_value = float(user_input)\n",
        "bool_value = bool(user_input)\n",
        "\n"
      ],
      "metadata": {
        "colab": {
          "base_uri": "https://localhost:8080/"
        },
        "id": "jBToFMo_WE4a",
        "outputId": "2000a584-8322-4c70-cce8-f156e7abe2a7"
      },
      "execution_count": 13,
      "outputs": [
        {
          "name": "stdout",
          "output_type": "stream",
          "text": [
            "Enter a value:10\n"
          ]
        }
      ]
    },
    {
      "cell_type": "code",
      "source": [
        "#10.Write code to demonstrate type casting with list elements.\n",
        "a = [1, 4, 9, 10, 19]\n",
        "b = [[5, 6, 8], [8, 5, 3], [9, 10, 3]]\n",
        "\n",
        "c = [str(x) for x in a]\n",
        "d = [[str(x) for x in sub] for sub in b]\n",
        "\n",
        "print(c)\n",
        "print(d)"
      ],
      "metadata": {
        "colab": {
          "base_uri": "https://localhost:8080/"
        },
        "id": "Jri6DtcsWxt8",
        "outputId": "661a145d-3dff-42a5-d560-bcc39631007e"
      },
      "execution_count": 14,
      "outputs": [
        {
          "output_type": "stream",
          "name": "stdout",
          "text": [
            "['1', '4', '9', '10', '19']\n",
            "[['5', '6', '8'], ['8', '5', '3'], ['9', '10', '3']]\n"
          ]
        }
      ]
    },
    {
      "cell_type": "code",
      "source": [
        "#11.Write a program that checks if a number is positive, negative, or zero.\n",
        "\n",
        "num = float(input(\"Enter a number:\"))\n",
        "if num > 0:\n",
        "    print(\"The number is positive.\")\n",
        "elif num < 0:\n",
        "    print(\"The number is negative.\")\n",
        "else:\n",
        "    print(\"The number is zero.\")"
      ],
      "metadata": {
        "colab": {
          "base_uri": "https://localhost:8080/"
        },
        "id": "Yw6yOrMbYLk2",
        "outputId": "b015ef65-8396-468e-beaf-bcbf2e2343b6"
      },
      "execution_count": 16,
      "outputs": [
        {
          "output_type": "stream",
          "name": "stdout",
          "text": [
            "Enter a number:12\n",
            "The number is positive.\n"
          ]
        }
      ]
    },
    {
      "cell_type": "code",
      "source": [
        "#12. Write a for loop to print numbers from 1 to 10.\n",
        "\n",
        "\n",
        "for i in range(1,11):\n",
        "    print(i)"
      ],
      "metadata": {
        "colab": {
          "base_uri": "https://localhost:8080/"
        },
        "id": "Mj61uKzYYd15",
        "outputId": "4a458c6d-8634-4245-f46c-0c4e8ded49d6"
      },
      "execution_count": 21,
      "outputs": [
        {
          "output_type": "stream",
          "name": "stdout",
          "text": [
            "1\n",
            "2\n",
            "3\n",
            "4\n",
            "5\n",
            "6\n",
            "7\n",
            "8\n",
            "9\n",
            "10\n"
          ]
        }
      ]
    },
    {
      "cell_type": "code",
      "source": [
        "#13.Write a Python program to find the sum of all even numbers between 1 and 50.\n",
        "\n",
        "sum_of_even = 0\n",
        "for i in range(2,51,2):\n",
        "    sum_of_even += i\n",
        "print(sum_of_even)"
      ],
      "metadata": {
        "colab": {
          "base_uri": "https://localhost:8080/"
        },
        "id": "JN4uDAoWZtzX",
        "outputId": "73cf0e03-41c4-466d-cf20-3f595be4f853"
      },
      "execution_count": 22,
      "outputs": [
        {
          "output_type": "stream",
          "name": "stdout",
          "text": [
            "650\n"
          ]
        }
      ]
    },
    {
      "cell_type": "code",
      "source": [
        "#14.Write a program to reverse a string using a while loop.\n",
        "\n",
        "\n",
        "\n",
        "string = input(\"Enter a string:\")\n",
        "reversed_string = \"\"\n",
        "index = len(string) - 1\n",
        "\n",
        "while index >= 0:\n",
        "    reversed_string += string[index]\n",
        "    index -= 1\n",
        "\n",
        "print(\"Reversed string:\", reversed_string)\n"
      ],
      "metadata": {
        "colab": {
          "base_uri": "https://localhost:8080/"
        },
        "id": "HGk6z3DeaTjh",
        "outputId": "e76ccd81-c9da-463b-8538-4543df763861"
      },
      "execution_count": 23,
      "outputs": [
        {
          "output_type": "stream",
          "name": "stdout",
          "text": [
            "Enter a string:''manish''\n",
            "Reversed string: ''hsinam''\n"
          ]
        }
      ]
    },
    {
      "cell_type": "code",
      "source": [
        "#15.Write a Python program to calculate the factorial of a number provided by the user using a while loop.\n",
        "\n",
        "num = 6\n",
        "\n",
        "factorial = 1\n",
        "\n",
        "for i in range(1, num + 1):\n",
        "    factorial *= i\n",
        "\n",
        "print(f\"The factorial of {num} is {factorial}\")\n"
      ],
      "metadata": {
        "colab": {
          "base_uri": "https://localhost:8080/"
        },
        "id": "KP5o5e3zbAfb",
        "outputId": "35b6487c-da61-417f-8c0b-a3efb2dcc690"
      },
      "execution_count": 25,
      "outputs": [
        {
          "output_type": "stream",
          "name": "stdout",
          "text": [
            "The factorial of 6 is 720\n"
          ]
        }
      ]
    },
    {
      "cell_type": "code",
      "source": [],
      "metadata": {
        "id": "bHpAKj1Bbhmj"
      },
      "execution_count": null,
      "outputs": []
    }
  ]
}